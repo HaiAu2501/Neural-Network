{
 "cells": [
  {
   "cell_type": "markdown",
   "id": "b8aa8d89",
   "metadata": {},
   "source": [
    "# Hồi quy Softmax"
   ]
  },
  {
   "cell_type": "markdown",
   "id": "5f397ff0",
   "metadata": {},
   "source": [
    "Hồi quy Softmax (hay Multinomial Logistic Regression, tức _Hồi quy logistic đa lớp_) là mô hình học có giám sát được sử dụng để xử lý các bài toán phân loại nhiều hơn 2 lớp.\n",
    "\n",
    "Giả sử có một bộ dữ liệu $\\mathcal{D}$ gồm $N$ mẫu và mỗi mẫu dữ liệu $(\\mathbf{x}_i,y_i)$ bao gồm vector thể hiện cho $d$ đặc trưng $\\mathbf{x}_i \\in \\mathbb{R}^d$ và một nhãn $y_i \\in \\{1,2,\\ldots,K\\}$ với $K$ là số lượng lớp. Mô hình Softmax dự đoán xác suất của một mẫu thuộc về lớp $k$ thông qua công thức:\n",
    "\\begin{align*}\n",
    "P\\left(y=k|\\mathbf{x};\\mathbf{W}\\right) = \\frac{e^{\\mathbf{w}^T_k \\mathbf{x}}}{\\sum_{j=1}^K e^{\\mathbf{w}^T_j \\mathbf{x}}}\n",
    "\\end{align*}\n",
    "\n",
    "Trong công thức này, $\\mathbf{W} = [\\mathbf{w}_1,\\mathbf{w}_2,\\ldots,\\mathbf{w}_K] \\in \\mathbb{R}^{d\\times K}$ là ma trận trọng số cần học và $\\mathbf{w}_k \\in \\mathbb{R}^d$ là vector trọng số cho lớp $k$.\n",
    "\n",
    "Hàm mất mát thường sử dụng có dạng cross - entropy, được định nghĩa như sau:\n",
    "\\begin{align*}\n",
    "\\mathcal{L}(\\mathbf{W}) = - \\frac{1}{N} \\sum_{i=1}^N \\sum_{k=1}^K 1(y_i=k) \\ln P\\left(y_i=k|\\mathbf{x}_i;\\mathbf{W}\\right)\n",
    "\\end{align*}\n",
    "\n",
    "Với $1(y_i=k)$ là hàm chỉ thị, bằng $1$ nếu $y_i = k$ đúng và bằng $0$ nếu $y_i \\neq k$.\n",
    "\n",
    "Ta sẽ mã hóa $y_i$ bởi một vector $\\mathbf{y}_i = (y_{1i},y_{2i},\\ldots,y_{Ki})^T \\in \\mathbb{R}^K$ có $y_{ki}=1$ nếu $y_i = k$ và $y_{ji}=0$ với mọi $j \\neq k$. Đồng thời, đặt $a_{ki} = P\\left(y_i=k|\\mathbf{x}_i;\\mathbf{W}\\right)$ là xác suất dự đoán mẫu dữ liệu thứ $i$ rơi vào lớp $k$. Ta thu được ma trận dữ liệu thực tế $X=[\\mathbf{x}_1,\\mathbf{x}_2,\\ldots,\\mathbf{x}_N] \\in \\mathbb{R}^{d\\times N}$, $Y = [y_{ki}] \\in \\mathbb{R}^{K\\times N}$ và ma trận dự đoán $A = [a_{ki}] \\in \\mathbb{R}^{K\\times N}$. Khi ấy ta có thể viết lại:\n",
    "\\begin{align*}\n",
    "\\mathcal{L}(\\mathbf{W}) = - \\frac{1}{N} \\sum_{i=1}^N \\sum_{k=1}^K y_{ki} \\ln(a_{ki})\n",
    "\\end{align*}\n",
    "\n",
    "Với chỉ một điểm dữ liệu $(\\mathbf{x}_i,y_i)$ ta có:\n",
    "\\begin{align*}\n",
    "\\mathcal{L}_i(\\mathbf{W}) = - \\sum_{k=1}^K y_{ki} \\ln(a_{ki}) = - \\sum_{k=1}^K y_{ki} \\ln\\left(\\frac{e^{\\mathbf{w}^T_k \\mathbf{x}_i}}{\\sum_{j=1}^K e^{\\mathbf{w}^T_j \\mathbf{x_i}}}\\right) = - \\sum_{k=1}^K \\left[y_{ki}\\mathbf{w}^T_k \\mathbf{x}_i-y_{ki}\\ln\\left(\\sum_{j=1}^K e^{\\mathbf{w}^T_j \\mathbf{x}_i}\\right)\\right]\n",
    "\\end{align*}\n",
    "\n",
    "Lưu ý, ta có tổng xác suất $\\sum_{k=1}^K y_{ki} = 1$ nên viết lại thành:\n",
    "\\begin{align*}\n",
    "\\mathcal{L}_i(\\mathbf{W}) = - \\sum_{k=1}^K y_{ki} \\ln(a_{ki}) = - \\sum_{k=1}^K y_{ki} \\ln\\left(\\frac{e^{\\mathbf{w}^T_k \\mathbf{x}_i}}{\\sum_{j=1}^K e^{\\mathbf{w}^T_j \\mathbf{x_i}}}\\right) = - \\left(\\sum_{k=1}^K y_{ki}\\mathbf{w}^T_k \\mathbf{x}_i\\right)+\\ln\\left(\\sum_{j=1}^K e^{\\mathbf{w}^T_j \\mathbf{x}_i}\\right)\n",
    "\\end{align*}\n",
    "\n",
    "Lấy đạo hàm riêng theo vector $\\mathbf{w}_k$ ta có:\n",
    "\\begin{align*}\n",
    "\\frac{\\partial \\mathcal{L}_i(\\mathbf{W})}{\\partial \\mathbf{w}_k} = -y_{ki}\\mathbf{x}_i+\\frac{e^{\\mathbf{w}^T_k \\mathbf{x}_i}}{\\sum_{j=1}^K e^{\\mathbf{w}^T_j \\mathbf{x}_i}}\\mathbf{x}_i = (a_{ki}-y_{ki})\\mathbf{x}_i = e_{ki}\\mathbf{x}_i\n",
    "\\end{align*}\n",
    "\n",
    "Với $e_{ki}=a_{ki}-y_{ki}$ là sai số (số thực). Thế thì:\n",
    "\\begin{align*}\n",
    "\\frac{\\partial \\mathcal{L}_i(\\mathbf{W})}{\\partial \\mathbf{W}} = \\left[\\frac{\\partial \\mathcal{L}_i(\\mathbf{W})}{\\partial \\mathbf{w}_1},\\frac{\\partial \\mathcal{L}_i(\\mathbf{W})}{\\partial \\mathbf{w}_2},\\ldots,\\frac{\\partial \\mathcal{L}_i(\\mathbf{W})}{\\partial \\mathbf{w}_K}\\right]=(e_{1i},e_{2i},\\ldots,e_{Ki})\\mathbf{x}_i = \\mathbf{x}_ie_i^T\n",
    "\\end{align*}\n",
    "\n",
    "Vậy gradient của $\\mathcal{L}(\\mathbf{w})$ theo ma trận $\\mathbf{W}$ là:\n",
    "\\begin{align*}\n",
    "\\frac{\\partial \\mathcal{L}(\\mathbf{W})}{\\partial \\mathbf{W}} = XE^T = X(A-Y)^T\n",
    "\\end{align*}"
   ]
  },
  {
   "cell_type": "code",
   "execution_count": 1,
   "id": "d7db23bc",
   "metadata": {},
   "outputs": [],
   "source": [
    "import numpy as np\n",
    "import pandas as pd\n",
    "import seaborn as sns\n",
    "import matplotlib.pyplot as plt\n",
    "from sklearn.model_selection import train_test_split\n",
    "from sklearn.preprocessing import StandardScaler\n",
    "from sklearn.preprocessing import StandardScaler, OneHotEncoder\n",
    "from sklearn.compose import ColumnTransformer\n",
    "from sklearn.pipeline import Pipeline"
   ]
  },
  {
   "cell_type": "code",
   "execution_count": 2,
   "id": "7a81084a",
   "metadata": {},
   "outputs": [],
   "source": [
    "def softmax(z):\n",
    "    e_z = np.exp(z - np.max(z, axis=1, keepdims=True))\n",
    "    return e_z / np.sum(e_z, axis=1, keepdims=True)\n",
    "\n",
    "def cross_entropy_loss(y_true, y_pred):\n",
    "    N = y_true.shape[0]  # Number of samples\n",
    "    log_likelihood = -np.log(y_pred[np.arange(N), y_true.argmax(axis=1)])\n",
    "    loss = np.sum(log_likelihood) / N\n",
    "    return loss\n",
    "\n",
    "def predict(W, b, X):\n",
    "    Z = np.dot(X, W.T) + b\n",
    "    return softmax(Z)\n",
    "\n",
    "def compute_accuracy(y_true, y_pred):\n",
    "    # Convert one-hot encoded predictions and labels to integers\n",
    "    y_true_classes = np.argmax(y_true, axis=1)\n",
    "    y_pred_classes = np.argmax(y_pred, axis=1)\n",
    "    \n",
    "    # Compute accuracy\n",
    "    accuracy = np.mean(y_true_classes == y_pred_classes)\n",
    "    return accuracy"
   ]
  },
  {
   "cell_type": "code",
   "execution_count": 3,
   "id": "248211c9",
   "metadata": {},
   "outputs": [],
   "source": [
    "def softmax_regression_nn(X, y, epochs, lr):\n",
    "    input_size = X.shape[1]\n",
    "    output_size = y.shape[1]\n",
    "    \n",
    "    # Initialize weights and bias\n",
    "    W = np.random.randn(output_size, input_size)\n",
    "    b = np.zeros((output_size,))\n",
    "    \n",
    "    for epoch in range(epochs):\n",
    "        # Forward propagation\n",
    "        Z = np.dot(X, W.T) + b\n",
    "        A = softmax(Z)\n",
    "        \n",
    "        # Loss computation\n",
    "        loss = cross_entropy_loss(y, A)\n",
    "        \n",
    "        # Backward propagation\n",
    "        dZ = A - y\n",
    "        dW = np.dot(dZ.T, X) / X.shape[0]\n",
    "        db = np.sum(dZ, axis=0) / X.shape[0]\n",
    "        \n",
    "        # Update weights and bias\n",
    "        W = W - lr * dW\n",
    "        b = b - lr * db\n",
    "        \n",
    "        # Compute and print loss and accuracy every 100 epochs\n",
    "        if epoch % 100 == 0:\n",
    "            accuracy = compute_accuracy(y, A)\n",
    "            print(f\"Epoch {epoch}, Loss: {loss}, Accuracy: {accuracy * 100:.2f}%\")\n",
    "    \n",
    "    return W, b"
   ]
  },
  {
   "cell_type": "code",
   "execution_count": 4,
   "id": "5789939a",
   "metadata": {},
   "outputs": [
    {
     "name": "stdout",
     "output_type": "stream",
     "text": [
      "   fixed acidity  volatile acidity  citric acid  residual sugar  chlorides  \\\n",
      "0            7.4              0.70         0.00             1.9      0.076   \n",
      "1            7.8              0.88         0.00             2.6      0.098   \n",
      "2            7.8              0.76         0.04             2.3      0.092   \n",
      "3           11.2              0.28         0.56             1.9      0.075   \n",
      "4            7.4              0.70         0.00             1.9      0.076   \n",
      "\n",
      "   free sulfur dioxide  total sulfur dioxide  density    pH  sulphates  \\\n",
      "0                 11.0                  34.0   0.9978  3.51       0.56   \n",
      "1                 25.0                  67.0   0.9968  3.20       0.68   \n",
      "2                 15.0                  54.0   0.9970  3.26       0.65   \n",
      "3                 17.0                  60.0   0.9980  3.16       0.58   \n",
      "4                 11.0                  34.0   0.9978  3.51       0.56   \n",
      "\n",
      "   alcohol  quality  \n",
      "0      9.4        5  \n",
      "1      9.8        5  \n",
      "2      9.8        5  \n",
      "3      9.8        6  \n",
      "4      9.4        5  \n"
     ]
    }
   ],
   "source": [
    "data = pd.read_csv(\"C:\\\\Users\\\\admin\\\\Downloads\\\\winequality-red.csv\")\n",
    "data_head = data.head()\n",
    "\n",
    "print(data.head())"
   ]
  },
  {
   "cell_type": "code",
   "execution_count": 5,
   "id": "5832359a",
   "metadata": {},
   "outputs": [
    {
     "data": {
      "image/png": "[encoded data removed]",
      "text/plain": [
       "<Figure size 500x300 with 1 Axes>"
      ]
     },
     "metadata": {},
     "output_type": "display_data"
    }
   ],
   "source": [
    "# Set the aesthetic style of the plots\n",
    "sns.set_style(\"whitegrid\")\n",
    "\n",
    "# Create a histogram for the 'quality' column\n",
    "plt.figure(figsize=(5, 3))\n",
    "sns.countplot(x='quality', data=data, palette='viridis')\n",
    "\n",
    "# Title and labels\n",
    "plt.title('Biểu đồ phân bố các chất lượng rượu', fontsize=7)\n",
    "plt.xlabel('Chất lượng rượu', fontsize=6)\n",
    "plt.ylabel('Số lượng', fontsize=6)\n",
    "\n",
    "# Display the plot\n",
    "plt.show()"
   ]
  },
  {
   "cell_type": "code",
   "execution_count": 12,
   "id": "72316097",
   "metadata": {},
   "outputs": [],
   "source": [
    "# Chia thuộc tính và nhãn\n",
    "X = data.drop(\"quality\", axis=1).values\n",
    "y = data[\"quality\"].values\n",
    "\n",
    "# Chia tập huấn luyện và tập kiểm tra\n",
    "X_train, X_test, y_train, y_test = train_test_split(X, y, test_size=0.2, random_state=42, stratify=y)\n",
    "\n",
    "scaler = StandardScaler()\n",
    "\n",
    "# Chuẩn hóa dữ liệu\n",
    "X_train_scaled = scaler.fit_transform(X_train)\n",
    "X_test_scaled = scaler.transform(X_test)\n",
    "\n",
    "# Mã hóa y dưới dạng vector 6 chiều\n",
    "encoder = OneHotEncoder(sparse_output=False)\n",
    "y_train_encoded = encoder.fit_transform(y_train.reshape(-1, 1))\n",
    "y_test_encoded = encoder.transform(y_test.reshape(-1, 1))"
   ]
  },
  {
   "cell_type": "code",
   "execution_count": 8,
   "id": "63436c8b",
   "metadata": {},
   "outputs": [
    {
     "name": "stdout",
     "output_type": "stream",
     "text": [
      "Epoch 0, Loss: 5.0457379531772935, Accuracy: 24.39%\n",
      "Epoch 100, Loss: 1.0597156572338886, Accuracy: 59.66%\n",
      "Epoch 200, Loss: 0.9742876732770732, Accuracy: 60.59%\n",
      "Epoch 300, Loss: 0.9559112371100955, Accuracy: 60.67%\n",
      "Epoch 400, Loss: 0.9463576141877467, Accuracy: 60.28%\n",
      "Epoch 500, Loss: 0.9398986081537, Accuracy: 60.75%\n",
      "Epoch 600, Loss: 0.9352094887509005, Accuracy: 60.91%\n",
      "Epoch 700, Loss: 0.9316916382983519, Accuracy: 61.14%\n",
      "Epoch 800, Loss: 0.9289859741758743, Accuracy: 61.14%\n",
      "Epoch 900, Loss: 0.9268570839243896, Accuracy: 61.06%\n"
     ]
    }
   ],
   "source": [
    "W, b = softmax_regression_nn(X_train_scaled, y_train_encoded, epochs=1000, lr=0.2)"
   ]
  },
  {
   "cell_type": "code",
   "execution_count": 14,
   "id": "3c17837c",
   "metadata": {},
   "outputs": [
    {
     "name": "stdout",
     "output_type": "stream",
     "text": [
      "(1279, 6)\n",
      "(1279, 11)\n"
     ]
    }
   ],
   "source": [
    "print(y_train_encoded.shape)\n",
    "print(X_train_scaled.shape)"
   ]
  },
  {
   "cell_type": "code",
   "execution_count": null,
   "id": "1614283c",
   "metadata": {},
   "outputs": [],
   "source": []
  }
 ],
 "metadata": {
  "kernelspec": {
   "display_name": "Python 3 (ipykernel)",
   "language": "python",
   "name": "python3"
  },
  "language_info": {
   "codemirror_mode": {
    "name": "ipython",
    "version": 3
   },
   "file_extension": ".py",
   "mimetype": "text/x-python",
   "name": "python",
   "nbconvert_exporter": "python",
   "pygments_lexer": "ipython3",
   "version": "3.11.4"
  }
 },
 "nbformat": 4,
 "nbformat_minor": 5
}
