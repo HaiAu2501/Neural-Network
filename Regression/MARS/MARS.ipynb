{
  "metadata": {
    "language_info": {
      "codemirror_mode": {
        "name": "python",
        "version": 3
      },
      "file_extension": ".py",
      "mimetype": "text/x-python",
      "name": "python",
      "nbconvert_exporter": "python",
      "pygments_lexer": "ipython3",
      "version": "3.8"
    },
    "kernelspec": {
      "name": "python",
      "display_name": "Python (Pyodide)",
      "language": "python"
    }
  },
  "nbformat_minor": 4,
  "nbformat": 4,
  "cells": [
    {
      "cell_type": "markdown",
      "source": "# Multivariate Adaptive Regression Spline\nTrong thống kê, Multivariate Adaptive Regression Spline (MARS) là một thuật toán hồi quy được giới thiệu bởi Jerome H. Friedman vào năm 1991. Đây là một mở rộng của các mô hình tuyến tính cho phép mô tả mối liên hệ phi tuyến tính giữa các biến số.\n\n![convert notebook to web app](https://upload.wikimedia.org/wikipedia/commons/6/6f/Friedmans_mars_linear_model.png)\n![convert notebook to web app](https://upload.wikimedia.org/wikipedia/commons/a/a7/Friedmans_mars_simple_model.png)\n\nMARS xây dựng vấn đề dưới dạng\n$$\\hat{f}(x)=\\sum_{i=1}^{k} c_iB_i(x).$$\ntrong đó $c_i$ là hệ số hằng, còn $B_i(x)$ là các hàm số cơ sở có dạng\n1) hằng số,\n2) hinge function, có dạng $max(0,x-c)\\;\\text{hoặc}\\;max(0,c-x).$\n3) Tích của hai hay nhiều hàm hinge function.\n![convert notebook to web app](https://upload.wikimedia.org/wikipedia/commons/7/74/Friedmans_mars_hinge_functions.png)\n\n# Xây dựng mô hình\nMARS xây dựng mô hình theo hai quá trình xuôi và ngược (forward, backward pass). Trong quá trình xuôi:\n1) MARS bắt đầu với một mô hình là hàm hằng, bằng trung bình cộng của tất cả các đầu ra quan sát được.\n2) Mỗi bước, MARS cộng thêm một cặp hàm số cơ sở sao cho hàm mất mát giảm đi nhiều nhất có thể. Mỗi hàm số bao gồm một số hạng đã có trong mô hình nhân với một hinge function.\n3) Quá trình kết thúc khi hàm mất mát quá nhỏ để tiếp tục hoặc khi đã đạt đến số số hạng tối đa.\n\nQuá trình xuôi thường tạo ra một mô hình overfit, do đó cần có thêm quá trình ngược. Trong quá trình ngược, mỗi bước một số hạng ảnh hưởng ít nhất đến mô hình sẽ bị loại đi cho đến khi tìm được mô hình con tốt nhất.",
      "metadata": {}
    },
    {
      "cell_type": "code",
      "source": "",
      "metadata": {},
      "execution_count": null,
      "outputs": []
    },
    {
      "cell_type": "code",
      "source": "",
      "metadata": {},
      "execution_count": null,
      "outputs": []
    }
  ]
}